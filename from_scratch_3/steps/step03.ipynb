{
 "cells": [
  {
   "cell_type": "markdown",
   "metadata": {},
   "source": [
    "# 제1고지 미분 자동 계산\r\n",
    "## 3단계 함수 연결"
   ]
  },
  {
   "cell_type": "code",
   "execution_count": 1,
   "metadata": {},
   "outputs": [],
   "source": [
    "import numpy as np"
   ]
  },
  {
   "cell_type": "markdown",
   "metadata": {},
   "source": [
    "### 3.1 Exp 함수 구현"
   ]
  },
  {
   "cell_type": "code",
   "execution_count": 2,
   "metadata": {},
   "outputs": [],
   "source": [
    "class Variable:\r\n",
    "    def __init__(self, data):\r\n",
    "        self.data = data\r\n",
    "\r\n",
    "class Function:\r\n",
    "    def __call__(self, input):\r\n",
    "        x = input.data\r\n",
    "        y = self.forward(x)\r\n",
    "        output = Variable(y)\r\n",
    "        return output\r\n",
    "    \r\n",
    "    def forward(self, x):\r\n",
    "        raise NotImplementedError()\r\n",
    "\r\n",
    "class Square(Function):\r\n",
    "    def forward(self, x):\r\n",
    "        return x ** 2\r\n",
    "\r\n",
    "class Exp(Function):\r\n",
    "    def forward(self, x):\r\n",
    "        return np.exp(x)"
   ]
  },
  {
   "cell_type": "markdown",
   "metadata": {},
   "source": [
    "### 3.2 함수 연결"
   ]
  },
  {
   "cell_type": "code",
   "execution_count": 3,
   "metadata": {},
   "outputs": [
    {
     "name": "stdout",
     "output_type": "stream",
     "text": [
      "1.648721270700128\n"
     ]
    }
   ],
   "source": [
    "A = Square()\r\n",
    "B = Exp()\r\n",
    "C = Square()\r\n",
    "\r\n",
    "x = Variable(np.array(0.5))\r\n",
    "a = A(x)\r\n",
    "b = B(a)\r\n",
    "y = C(b)\r\n",
    "print(y.data)"
   ]
  }
 ],
 "metadata": {
  "interpreter": {
   "hash": "2339e85af85d8410d5c2a45804e893c01aa1492b2e151b07ed63eb1223903c06"
  },
  "kernelspec": {
   "display_name": "Python 3.7.6 64-bit ('.venv')",
   "name": "python3"
  },
  "language_info": {
   "codemirror_mode": {
    "name": "ipython",
    "version": 3
   },
   "file_extension": ".py",
   "mimetype": "text/x-python",
   "name": "python",
   "nbconvert_exporter": "python",
   "pygments_lexer": "ipython3",
   "version": "3.7.6"
  },
  "orig_nbformat": 4
 },
 "nbformat": 4,
 "nbformat_minor": 2
}