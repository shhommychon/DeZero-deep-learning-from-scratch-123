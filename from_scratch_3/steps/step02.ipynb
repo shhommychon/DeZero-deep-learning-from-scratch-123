{
 "cells": [
  {
   "cell_type": "markdown",
   "metadata": {},
   "source": [
    "# 제1고지 미분 자동 계산\r\n",
    "## 2단계 변수를 낳는 함수"
   ]
  },
  {
   "cell_type": "code",
   "execution_count": 1,
   "metadata": {},
   "outputs": [],
   "source": [
    "import numpy as np"
   ]
  },
  {
   "cell_type": "markdown",
   "metadata": {},
   "source": [
    "### 2.2 Function 클래스 구현"
   ]
  },
  {
   "cell_type": "code",
   "execution_count": 2,
   "metadata": {},
   "outputs": [],
   "source": [
    "class Variable:\r\n",
    "    def __init__(self, data):\r\n",
    "        self.data = data\r\n",
    "\r\n",
    "class Function:\r\n",
    "    def __call__(self, input):\r\n",
    "        x = input.data\r\n",
    "        y = x ** 2\r\n",
    "        output = Variable(y)\r\n",
    "        return output"
   ]
  },
  {
   "cell_type": "markdown",
   "metadata": {},
   "source": [
    "### 2.3 Function 클래스 이용"
   ]
  },
  {
   "cell_type": "code",
   "execution_count": 3,
   "metadata": {},
   "outputs": [
    {
     "name": "stdout",
     "output_type": "stream",
     "text": [
      "<class '__main__.Variable'>\n",
      "100\n"
     ]
    }
   ],
   "source": [
    "x = Variable(np.array(10))\r\n",
    "f = Function()\r\n",
    "y = f(x)\r\n",
    "\r\n",
    "print(type(y))\r\n",
    "print(y.data)"
   ]
  },
  {
   "cell_type": "code",
   "execution_count": 4,
   "metadata": {},
   "outputs": [],
   "source": [
    "class Function:\r\n",
    "    def __call__(self, input):\r\n",
    "        x = input.data\r\n",
    "        y = self.forward(x)\r\n",
    "        output = Variable(y)\r\n",
    "        return output\r\n",
    "    \r\n",
    "    def forward(self, x):\r\n",
    "        raise NotImplementedError()"
   ]
  },
  {
   "cell_type": "code",
   "execution_count": 5,
   "metadata": {},
   "outputs": [],
   "source": [
    "class Square(Function):\r\n",
    "    def forward(self, x):\r\n",
    "        return x ** 2"
   ]
  },
  {
   "cell_type": "code",
   "execution_count": 6,
   "metadata": {},
   "outputs": [
    {
     "name": "stdout",
     "output_type": "stream",
     "text": [
      "<class '__main__.Variable'>\n",
      "100\n"
     ]
    }
   ],
   "source": [
    "x = Variable(np.array(10))\r\n",
    "f = Square()\r\n",
    "y = f(x)\r\n",
    "print(type(y))\r\n",
    "print(y.data)"
   ]
  }
 ],
 "metadata": {
  "interpreter": {
   "hash": "2339e85af85d8410d5c2a45804e893c01aa1492b2e151b07ed63eb1223903c06"
  },
  "kernelspec": {
   "display_name": "Python 3.7.6 64-bit ('.venv')",
   "name": "python3"
  },
  "language_info": {
   "codemirror_mode": {
    "name": "ipython",
    "version": 3
   },
   "file_extension": ".py",
   "mimetype": "text/x-python",
   "name": "python",
   "nbconvert_exporter": "python",
   "pygments_lexer": "ipython3",
   "version": "3.7.6"
  },
  "orig_nbformat": 4
 },
 "nbformat": 4,
 "nbformat_minor": 2
}