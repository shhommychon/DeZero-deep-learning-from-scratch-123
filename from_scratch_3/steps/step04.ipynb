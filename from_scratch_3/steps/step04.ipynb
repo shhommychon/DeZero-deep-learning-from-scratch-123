{
 "cells": [
  {
   "cell_type": "markdown",
   "metadata": {},
   "source": [
    "# 제1고지 미분 자동 계산\r\n",
    "## 4단계 수치 미분"
   ]
  },
  {
   "cell_type": "code",
   "execution_count": 1,
   "metadata": {},
   "outputs": [],
   "source": [
    "import numpy as np\r\n",
    "\r\n",
    "class Variable:\r\n",
    "    def __init__(self, data):\r\n",
    "        self.data = data\r\n",
    "\r\n",
    "class Function:\r\n",
    "    def __call__(self, input):\r\n",
    "        x = input.data\r\n",
    "        y = self.forward(x)\r\n",
    "        output = Variable(y)\r\n",
    "        return output\r\n",
    "    \r\n",
    "    def forward(self, x):\r\n",
    "        raise NotImplementedError()\r\n",
    "\r\n",
    "class Square(Function):\r\n",
    "    def forward(self, x):\r\n",
    "        return x ** 2\r\n",
    "\r\n",
    "class Exp(Function):\r\n",
    "    def forward(self, x):\r\n",
    "        return np.exp(x)"
   ]
  },
  {
   "cell_type": "markdown",
   "metadata": {},
   "source": [
    "### 4.2 수치 미분 구현"
   ]
  },
  {
   "cell_type": "code",
   "execution_count": 2,
   "metadata": {},
   "outputs": [],
   "source": [
    "def numerical_diff(f, x, eps=1e-4):\r\n",
    "    x0 = Variable(x.data - eps)\r\n",
    "    x1 = Variable(x.data + eps)\r\n",
    "    y0 = f(x0)\r\n",
    "    y1 = f(x1)\r\n",
    "    return (y1.data - y0.data) / (2 * eps)"
   ]
  },
  {
   "cell_type": "code",
   "execution_count": 3,
   "metadata": {},
   "outputs": [
    {
     "name": "stdout",
     "output_type": "stream",
     "text": [
      "4.000000000004\n"
     ]
    }
   ],
   "source": [
    "f = Square()\r\n",
    "x1 = Variable(np.array(2.0))\r\n",
    "dy = numerical_diff(f, x1)\r\n",
    "print(dy)"
   ]
  },
  {
   "cell_type": "code",
   "execution_count": 4,
   "metadata": {},
   "outputs": [
    {
     "name": "stdout",
     "output_type": "stream",
     "text": [
      "4.000000000115023\n",
      "4.000000330961484\n"
     ]
    }
   ],
   "source": [
    "# 예상과 달리 eps가 더 작아지니 오차가 더 커짐\r\n",
    "\r\n",
    "dy_1e6 = numerical_diff(f, x1, eps=1e-6)\r\n",
    "print(dy_1e6)\r\n",
    "\r\n",
    "dy_1e9 = numerical_diff(f, x1, eps=1e-9)\r\n",
    "print(dy_1e9)"
   ]
  },
  {
   "cell_type": "markdown",
   "metadata": {},
   "source": [
    "### 4.3 합성 함수의 미분"
   ]
  },
  {
   "cell_type": "code",
   "execution_count": 5,
   "metadata": {},
   "outputs": [
    {
     "name": "stdout",
     "output_type": "stream",
     "text": [
      "3.2974426293330694\n"
     ]
    }
   ],
   "source": [
    "def f(x):\r\n",
    "    A = Square()\r\n",
    "    B = Exp()\r\n",
    "    C = Square()\r\n",
    "    return C(B(A(x)))\r\n",
    "\r\n",
    "x2 = Variable(np.array(0.5))\r\n",
    "dy2 = numerical_diff(f, x2)\r\n",
    "print(dy2)"
   ]
  }
 ],
 "metadata": {
  "interpreter": {
   "hash": "2339e85af85d8410d5c2a45804e893c01aa1492b2e151b07ed63eb1223903c06"
  },
  "kernelspec": {
   "display_name": "Python 3.7.6 64-bit ('.venv')",
   "name": "python3"
  },
  "language_info": {
   "codemirror_mode": {
    "name": "ipython",
    "version": 3
   },
   "file_extension": ".py",
   "mimetype": "text/x-python",
   "name": "python",
   "nbconvert_exporter": "python",
   "pygments_lexer": "ipython3",
   "version": "3.7.6"
  },
  "orig_nbformat": 4
 },
 "nbformat": 4,
 "nbformat_minor": 2
}